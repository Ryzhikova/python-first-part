{
 "cells": [
  {
   "cell_type": "markdown",
   "metadata": {},
   "source": [
    "[![Open In Colab](https://colab.research.google.com/assets/colab-badge.svg)](https://colab.research.google.com/github/Ryzhikova/python-first-part/blob/main/Task2_dmrf.ipynb)"
   ]
  },
  {
   "cell_type": "markdown",
   "metadata": {
    "toc": true
   },
   "source": [
    "\n",
    "## Table of Contents\n",
    "* [Задание](#chapter1)\n",
    "* [Импорт данных, общая информация](#chapter2)\n",
    "* [Предобработка данных](#chapter3)\n",
    "* [Исследовательский анализ данных](#chapter4)"
   ]
  },
  {
   "cell_type": "markdown",
   "metadata": {
    "pycharm": {
     "name": "#%% md\n"
    }
   },
   "source": [
    "## Задание<a class=\"anchor\" id=\"chapter1\"></a>\n",
    "* Собрать информацию о всех строящихся объектах на сайте \"наш.дом.рф\"\n",
    "* Cохранить результаты в pandas dataframe\n",
    "<hr>\n",
    "\n",
    "* Проверить состояние датафрейма и привести его в формат, позволяющий дальнейшее исследование данных:\n",
    "-- Привести колонки датафрейма к одному типу данных\n",
    "-- Проверить индекс, чтобы он соответствовал порядку строк\n",
    "-- Проверить наличие пропусков и в случае обнаружения, определить стратегию их обработки\n",
    "<hr>\n",
    "\n",
    "* Провести мини-исследование рынка строящейся недвижимости в одном или нескольких регионах с помощью pandas, matplotlib, seaborn, plotly и других инструментов.\n",
    "-- Рассчитать средние цены за квадратный метр по регионам. Важно чтобы пропуски не учитывались при расчете средней цены.\n",
    "-- Рассчитать объемы вводимого жилья по регионам и по годам.\n",
    "-- Сравнить этажность домов, количество квартир, жилую площадь, количество парковочных мест и цену за квадратный метр в разных регионах\n",
    "-- Визуализировать разброс, связь и распределение этих показателей по регионам\n",
    "-- Сделать выводы по каждому из расчетов и графиков\n"
   ]
  },
  {
   "cell_type": "markdown",
   "metadata": {},
   "source": [
    "## Импорт данных, общая информация<a class=\"anchor\" id=\"chapter2\"></a>"
   ]
  },
  {
   "cell_type": "code",
   "execution_count": 3,
   "metadata": {
    "pycharm": {
     "name": "#%%\n"
    }
   },
   "outputs": [],
   "source": [
    "import requests\n",
    "import pandas as pd\n",
    "import numpy as np\n",
    "import seaborn as sns\n",
    "import matplotlib.pyplot as plt\n",
    "import plotly.graph_objects as go\n",
    "import plotly.express as px\n",
    "import ipywidgets as widgets\n",
    "from ipywidgets import interact, interactive, fixed, interact_manual\n",
    "from IPython.display import display"
   ]
  },
  {
   "cell_type": "code",
   "execution_count": 6,
   "metadata": {},
   "outputs": [],
   "source": [
    "class IdLoader:\n",
    "    def __init__(self):\n",
    "        self.offset_ = 1\n",
    "        self.limit_ = 1000\n",
    "        self.url = 'https://xn--80az8a.xn--d1aqf.xn--p1ai/%D1%81%D0%B5%D1%80%D0%B2%D0%B8%D1%81%D1%8B/api/kn/object'\n",
    "        self.obj_ids = []\n",
    "\n",
    "    def get_ids(self):\n",
    "        while self.offset_<10527:\n",
    "            paramz = {\n",
    "                'offset': self.offset_,\n",
    "                'limit': self.limit_,\n",
    "                'sortField':'devId.devShortCleanNm',\n",
    "                'sortType':'asc',\n",
    "                'objStatus':'0',\n",
    "            }\n",
    "            res = requests.get(self.url, params=paramz)\n",
    "            objects_data = res.json()\n",
    "            objects_list = objects_data.get('data').get('list')\n",
    "            self.obj_ids = self.obj_ids + [x.get('objId') for x in objects_list]\n",
    "            self.offset_ = self.offset_ + self.limit_\n",
    "        return self.obj_ids\n",
    "        \n",
    "    def show_ids(self):\n",
    "        # print()\n",
    "        ..."
   ]
  },
  {
   "cell_type": "code",
   "execution_count": 7,
   "metadata": {},
   "outputs": [],
   "source": [
    "objids = IdLoader().get_ids()"
   ]
  },
  {
   "cell_type": "code",
   "execution_count": 8,
   "metadata": {},
   "outputs": [
    {
     "data": {
      "text/plain": [
       "10572"
      ]
     },
     "execution_count": 8,
     "metadata": {},
     "output_type": "execute_result"
    }
   ],
   "source": [
    "len(objids)"
   ]
  },
  {
   "cell_type": "code",
   "execution_count": 16,
   "metadata": {},
   "outputs": [],
   "source": [
    "class ObjectInfoExtractor:\n",
    "    def __init__(self, ids):\n",
    "        self.url = 'https://xn--80az8a.xn--d1aqf.xn--p1ai/%D1%81%D0%B5%D1%80%D0%B2%D0%B8%D1%81%D1%8B/api/object/'\n",
    "        self.pkl = 'output.pkl'\n",
    "        self.ids = ids\n",
    "    \n",
    "    def load_data(self):\n",
    "        df = []\n",
    "        data = pd.DataFrame()\n",
    "        \n",
    "        for obj in self.ids:\n",
    "            res = requests.get(self.url+f'{obj}').json()\n",
    "            df = pd.json_normalize(res)\n",
    "            data = pd.concat([data, df])\n",
    "            \n",
    "        return data"
   ]
  },
  {
   "cell_type": "code",
   "execution_count": 17,
   "metadata": {},
   "outputs": [],
   "source": [
    "data = ObjectInfoExtractor(objids).load_data()"
   ]
  },
  {
   "cell_type": "code",
   "execution_count": 25,
   "metadata": {},
   "outputs": [],
   "source": [
    "data.to_pickle('output.pkl')"
   ]
  },
  {
   "cell_type": "code",
   "execution_count": 47,
   "metadata": {},
   "outputs": [],
   "source": [
    "data = pd.read_pickle('output.pkl')"
   ]
  },
  {
   "cell_type": "code",
   "execution_count": 48,
   "metadata": {
    "pycharm": {
     "name": "#%%\n"
    },
    "scrolled": true
   },
   "outputs": [
    {
     "data": {
      "text/html": [
       "<div>\n",
       "<style scoped>\n",
       "    .dataframe tbody tr th:only-of-type {\n",
       "        vertical-align: middle;\n",
       "    }\n",
       "\n",
       "    .dataframe tbody tr th {\n",
       "        vertical-align: top;\n",
       "    }\n",
       "\n",
       "    .dataframe thead th {\n",
       "        text-align: right;\n",
       "    }\n",
       "</style>\n",
       "<table border=\"1\" class=\"dataframe\">\n",
       "  <thead>\n",
       "    <tr style=\"text-align: right;\">\n",
       "      <th></th>\n",
       "      <th>errcode</th>\n",
       "      <th>data.id</th>\n",
       "      <th>data.pdId</th>\n",
       "      <th>data.developer.devId</th>\n",
       "      <th>data.developer.devShortCleanNm</th>\n",
       "      <th>data.developer.devShortNm</th>\n",
       "      <th>data.developer.devFullCleanNm</th>\n",
       "      <th>data.developer.problObjCnt</th>\n",
       "      <th>data.developer.buildObjCnt</th>\n",
       "      <th>data.developer.comissObjCnt</th>\n",
       "      <th>...</th>\n",
       "      <th>data.developer.bankruptStage.bankruptStageDesc</th>\n",
       "      <th>data.developer.bankruptStage.bankruptLawUrl</th>\n",
       "      <th>data.developer.orgBankruptMsgDttm</th>\n",
       "      <th>data.metro.id</th>\n",
       "      <th>data.metro.name</th>\n",
       "      <th>data.metro.line</th>\n",
       "      <th>data.metro.color</th>\n",
       "      <th>data.metro.time</th>\n",
       "      <th>data.metro.isWalk</th>\n",
       "      <th>data.metro.colors</th>\n",
       "    </tr>\n",
       "  </thead>\n",
       "  <tbody>\n",
       "    <tr>\n",
       "      <th>0</th>\n",
       "      <td>0</td>\n",
       "      <td>29679</td>\n",
       "      <td>124647</td>\n",
       "      <td>7424</td>\n",
       "      <td>212-2</td>\n",
       "      <td>212-2</td>\n",
       "      <td>212-2</td>\n",
       "      <td>0</td>\n",
       "      <td>1</td>\n",
       "      <td>0</td>\n",
       "      <td>...</td>\n",
       "      <td>NaN</td>\n",
       "      <td>NaN</td>\n",
       "      <td>NaN</td>\n",
       "      <td>NaN</td>\n",
       "      <td>NaN</td>\n",
       "      <td>NaN</td>\n",
       "      <td>NaN</td>\n",
       "      <td>NaN</td>\n",
       "      <td>NaN</td>\n",
       "      <td>NaN</td>\n",
       "    </tr>\n",
       "    <tr>\n",
       "      <th>0</th>\n",
       "      <td>0</td>\n",
       "      <td>13383</td>\n",
       "      <td>28105</td>\n",
       "      <td>306</td>\n",
       "      <td>2МЕН ГРУПП</td>\n",
       "      <td>2МЕН ГРУПП</td>\n",
       "      <td>2МЕН ГРУПП</td>\n",
       "      <td>0</td>\n",
       "      <td>5</td>\n",
       "      <td>0</td>\n",
       "      <td>...</td>\n",
       "      <td>NaN</td>\n",
       "      <td>NaN</td>\n",
       "      <td>NaN</td>\n",
       "      <td>NaN</td>\n",
       "      <td>NaN</td>\n",
       "      <td>NaN</td>\n",
       "      <td>NaN</td>\n",
       "      <td>NaN</td>\n",
       "      <td>NaN</td>\n",
       "      <td>NaN</td>\n",
       "    </tr>\n",
       "    <tr>\n",
       "      <th>0</th>\n",
       "      <td>0</td>\n",
       "      <td>13397</td>\n",
       "      <td>28141</td>\n",
       "      <td>306</td>\n",
       "      <td>2МЕН ГРУПП</td>\n",
       "      <td>2МЕН ГРУПП</td>\n",
       "      <td>2МЕН ГРУПП</td>\n",
       "      <td>0</td>\n",
       "      <td>5</td>\n",
       "      <td>0</td>\n",
       "      <td>...</td>\n",
       "      <td>NaN</td>\n",
       "      <td>NaN</td>\n",
       "      <td>NaN</td>\n",
       "      <td>NaN</td>\n",
       "      <td>NaN</td>\n",
       "      <td>NaN</td>\n",
       "      <td>NaN</td>\n",
       "      <td>NaN</td>\n",
       "      <td>NaN</td>\n",
       "      <td>NaN</td>\n",
       "    </tr>\n",
       "    <tr>\n",
       "      <th>0</th>\n",
       "      <td>0</td>\n",
       "      <td>13399</td>\n",
       "      <td>28141</td>\n",
       "      <td>306</td>\n",
       "      <td>2МЕН ГРУПП</td>\n",
       "      <td>2МЕН ГРУПП</td>\n",
       "      <td>2МЕН ГРУПП</td>\n",
       "      <td>0</td>\n",
       "      <td>5</td>\n",
       "      <td>0</td>\n",
       "      <td>...</td>\n",
       "      <td>NaN</td>\n",
       "      <td>NaN</td>\n",
       "      <td>NaN</td>\n",
       "      <td>NaN</td>\n",
       "      <td>NaN</td>\n",
       "      <td>NaN</td>\n",
       "      <td>NaN</td>\n",
       "      <td>NaN</td>\n",
       "      <td>NaN</td>\n",
       "      <td>NaN</td>\n",
       "    </tr>\n",
       "    <tr>\n",
       "      <th>0</th>\n",
       "      <td>0</td>\n",
       "      <td>13398</td>\n",
       "      <td>28141</td>\n",
       "      <td>306</td>\n",
       "      <td>2МЕН ГРУПП</td>\n",
       "      <td>2МЕН ГРУПП</td>\n",
       "      <td>2МЕН ГРУПП</td>\n",
       "      <td>0</td>\n",
       "      <td>5</td>\n",
       "      <td>0</td>\n",
       "      <td>...</td>\n",
       "      <td>NaN</td>\n",
       "      <td>NaN</td>\n",
       "      <td>NaN</td>\n",
       "      <td>NaN</td>\n",
       "      <td>NaN</td>\n",
       "      <td>NaN</td>\n",
       "      <td>NaN</td>\n",
       "      <td>NaN</td>\n",
       "      <td>NaN</td>\n",
       "      <td>NaN</td>\n",
       "    </tr>\n",
       "    <tr>\n",
       "      <th>0</th>\n",
       "      <td>0</td>\n",
       "      <td>13391</td>\n",
       "      <td>28101</td>\n",
       "      <td>306</td>\n",
       "      <td>2МЕН ГРУПП</td>\n",
       "      <td>2МЕН ГРУПП</td>\n",
       "      <td>2МЕН ГРУПП</td>\n",
       "      <td>0</td>\n",
       "      <td>5</td>\n",
       "      <td>0</td>\n",
       "      <td>...</td>\n",
       "      <td>NaN</td>\n",
       "      <td>NaN</td>\n",
       "      <td>NaN</td>\n",
       "      <td>NaN</td>\n",
       "      <td>NaN</td>\n",
       "      <td>NaN</td>\n",
       "      <td>NaN</td>\n",
       "      <td>NaN</td>\n",
       "      <td>NaN</td>\n",
       "      <td>NaN</td>\n",
       "    </tr>\n",
       "    <tr>\n",
       "      <th>0</th>\n",
       "      <td>0</td>\n",
       "      <td>36912</td>\n",
       "      <td>337586</td>\n",
       "      <td>10296</td>\n",
       "      <td>CЗ СТРОЙРЕСУРС</td>\n",
       "      <td>CЗ СТРОЙРЕСУРС</td>\n",
       "      <td>CПЕЦИАЛИЗИРОВАННЫЙ ЗАСТРОЙЩИК СТРОЙРЕСУРС</td>\n",
       "      <td>0</td>\n",
       "      <td>1</td>\n",
       "      <td>0</td>\n",
       "      <td>...</td>\n",
       "      <td>NaN</td>\n",
       "      <td>NaN</td>\n",
       "      <td>NaN</td>\n",
       "      <td>NaN</td>\n",
       "      <td>NaN</td>\n",
       "      <td>NaN</td>\n",
       "      <td>NaN</td>\n",
       "      <td>NaN</td>\n",
       "      <td>NaN</td>\n",
       "      <td>NaN</td>\n",
       "    </tr>\n",
       "    <tr>\n",
       "      <th>0</th>\n",
       "      <td>0</td>\n",
       "      <td>44076</td>\n",
       "      <td>275899</td>\n",
       "      <td>9115</td>\n",
       "      <td>XXI ВЕК СТРОЙ</td>\n",
       "      <td>XXI ВЕК СТРОЙ</td>\n",
       "      <td>XXI ВЕК СТРОЙ</td>\n",
       "      <td>0</td>\n",
       "      <td>1</td>\n",
       "      <td>0</td>\n",
       "      <td>...</td>\n",
       "      <td>NaN</td>\n",
       "      <td>NaN</td>\n",
       "      <td>NaN</td>\n",
       "      <td>NaN</td>\n",
       "      <td>NaN</td>\n",
       "      <td>NaN</td>\n",
       "      <td>NaN</td>\n",
       "      <td>NaN</td>\n",
       "      <td>NaN</td>\n",
       "      <td>NaN</td>\n",
       "    </tr>\n",
       "    <tr>\n",
       "      <th>0</th>\n",
       "      <td>0</td>\n",
       "      <td>23494</td>\n",
       "      <td>35375</td>\n",
       "      <td>4074</td>\n",
       "      <td>А-ЛЕКС</td>\n",
       "      <td>А-ЛЕКС</td>\n",
       "      <td>А-ЛЕКС</td>\n",
       "      <td>0</td>\n",
       "      <td>1</td>\n",
       "      <td>0</td>\n",
       "      <td>...</td>\n",
       "      <td>NaN</td>\n",
       "      <td>NaN</td>\n",
       "      <td>NaN</td>\n",
       "      <td>NaN</td>\n",
       "      <td>NaN</td>\n",
       "      <td>NaN</td>\n",
       "      <td>NaN</td>\n",
       "      <td>NaN</td>\n",
       "      <td>NaN</td>\n",
       "      <td>NaN</td>\n",
       "    </tr>\n",
       "    <tr>\n",
       "      <th>0</th>\n",
       "      <td>0</td>\n",
       "      <td>27476</td>\n",
       "      <td>94132</td>\n",
       "      <td>664</td>\n",
       "      <td>А101</td>\n",
       "      <td>А101</td>\n",
       "      <td>А101</td>\n",
       "      <td>0</td>\n",
       "      <td>1</td>\n",
       "      <td>49</td>\n",
       "      <td>...</td>\n",
       "      <td>NaN</td>\n",
       "      <td>NaN</td>\n",
       "      <td>NaN</td>\n",
       "      <td>NaN</td>\n",
       "      <td>NaN</td>\n",
       "      <td>NaN</td>\n",
       "      <td>NaN</td>\n",
       "      <td>NaN</td>\n",
       "      <td>NaN</td>\n",
       "      <td>NaN</td>\n",
       "    </tr>\n",
       "  </tbody>\n",
       "</table>\n",
       "<p>10 rows × 109 columns</p>\n",
       "</div>"
      ],
      "text/plain": [
       "  errcode  data.id  data.pdId  data.developer.devId  \\\n",
       "0       0    29679     124647                  7424   \n",
       "0       0    13383      28105                   306   \n",
       "0       0    13397      28141                   306   \n",
       "0       0    13399      28141                   306   \n",
       "0       0    13398      28141                   306   \n",
       "0       0    13391      28101                   306   \n",
       "0       0    36912     337586                 10296   \n",
       "0       0    44076     275899                  9115   \n",
       "0       0    23494      35375                  4074   \n",
       "0       0    27476      94132                   664   \n",
       "\n",
       "  data.developer.devShortCleanNm data.developer.devShortNm  \\\n",
       "0                          212-2                     212-2   \n",
       "0                     2МЕН ГРУПП                2МЕН ГРУПП   \n",
       "0                     2МЕН ГРУПП                2МЕН ГРУПП   \n",
       "0                     2МЕН ГРУПП                2МЕН ГРУПП   \n",
       "0                     2МЕН ГРУПП                2МЕН ГРУПП   \n",
       "0                     2МЕН ГРУПП                2МЕН ГРУПП   \n",
       "0                 CЗ СТРОЙРЕСУРС            CЗ СТРОЙРЕСУРС   \n",
       "0                  XXI ВЕК СТРОЙ             XXI ВЕК СТРОЙ   \n",
       "0                         А-ЛЕКС                    А-ЛЕКС   \n",
       "0                           А101                      А101   \n",
       "\n",
       "               data.developer.devFullCleanNm  data.developer.problObjCnt  \\\n",
       "0                                      212-2                           0   \n",
       "0                                 2МЕН ГРУПП                           0   \n",
       "0                                 2МЕН ГРУПП                           0   \n",
       "0                                 2МЕН ГРУПП                           0   \n",
       "0                                 2МЕН ГРУПП                           0   \n",
       "0                                 2МЕН ГРУПП                           0   \n",
       "0  CПЕЦИАЛИЗИРОВАННЫЙ ЗАСТРОЙЩИК СТРОЙРЕСУРС                           0   \n",
       "0                              XXI ВЕК СТРОЙ                           0   \n",
       "0                                     А-ЛЕКС                           0   \n",
       "0                                       А101                           0   \n",
       "\n",
       "   data.developer.buildObjCnt  data.developer.comissObjCnt  ...  \\\n",
       "0                           1                            0  ...   \n",
       "0                           5                            0  ...   \n",
       "0                           5                            0  ...   \n",
       "0                           5                            0  ...   \n",
       "0                           5                            0  ...   \n",
       "0                           5                            0  ...   \n",
       "0                           1                            0  ...   \n",
       "0                           1                            0  ...   \n",
       "0                           1                            0  ...   \n",
       "0                           1                           49  ...   \n",
       "\n",
       "  data.developer.bankruptStage.bankruptStageDesc  \\\n",
       "0                                            NaN   \n",
       "0                                            NaN   \n",
       "0                                            NaN   \n",
       "0                                            NaN   \n",
       "0                                            NaN   \n",
       "0                                            NaN   \n",
       "0                                            NaN   \n",
       "0                                            NaN   \n",
       "0                                            NaN   \n",
       "0                                            NaN   \n",
       "\n",
       "  data.developer.bankruptStage.bankruptLawUrl  \\\n",
       "0                                         NaN   \n",
       "0                                         NaN   \n",
       "0                                         NaN   \n",
       "0                                         NaN   \n",
       "0                                         NaN   \n",
       "0                                         NaN   \n",
       "0                                         NaN   \n",
       "0                                         NaN   \n",
       "0                                         NaN   \n",
       "0                                         NaN   \n",
       "\n",
       "  data.developer.orgBankruptMsgDttm data.metro.id data.metro.name  \\\n",
       "0                               NaN           NaN             NaN   \n",
       "0                               NaN           NaN             NaN   \n",
       "0                               NaN           NaN             NaN   \n",
       "0                               NaN           NaN             NaN   \n",
       "0                               NaN           NaN             NaN   \n",
       "0                               NaN           NaN             NaN   \n",
       "0                               NaN           NaN             NaN   \n",
       "0                               NaN           NaN             NaN   \n",
       "0                               NaN           NaN             NaN   \n",
       "0                               NaN           NaN             NaN   \n",
       "\n",
       "  data.metro.line data.metro.color data.metro.time data.metro.isWalk  \\\n",
       "0             NaN              NaN             NaN               NaN   \n",
       "0             NaN              NaN             NaN               NaN   \n",
       "0             NaN              NaN             NaN               NaN   \n",
       "0             NaN              NaN             NaN               NaN   \n",
       "0             NaN              NaN             NaN               NaN   \n",
       "0             NaN              NaN             NaN               NaN   \n",
       "0             NaN              NaN             NaN               NaN   \n",
       "0             NaN              NaN             NaN               NaN   \n",
       "0             NaN              NaN             NaN               NaN   \n",
       "0             NaN              NaN             NaN               NaN   \n",
       "\n",
       "   data.metro.colors  \n",
       "0                NaN  \n",
       "0                NaN  \n",
       "0                NaN  \n",
       "0                NaN  \n",
       "0                NaN  \n",
       "0                NaN  \n",
       "0                NaN  \n",
       "0                NaN  \n",
       "0                NaN  \n",
       "0                NaN  \n",
       "\n",
       "[10 rows x 109 columns]"
      ]
     },
     "execution_count": 48,
     "metadata": {},
     "output_type": "execute_result"
    }
   ],
   "source": [
    "data.head(10)"
   ]
  },
  {
   "cell_type": "code",
   "execution_count": 49,
   "metadata": {},
   "outputs": [
    {
     "data": {
      "text/plain": [
       "(10553, 109)"
      ]
     },
     "execution_count": 49,
     "metadata": {},
     "output_type": "execute_result"
    }
   ],
   "source": [
    "data.shape"
   ]
  },
  {
   "cell_type": "markdown",
   "metadata": {},
   "source": [
    "## Предобработка данных<a class=\"anchor\" id=\"chapter3\"></a>"
   ]
  },
  {
   "cell_type": "code",
   "execution_count": 50,
   "metadata": {},
   "outputs": [],
   "source": [
    "class DfPreprocessing:\n",
    "    def __init__(self, df):\n",
    "        self.df = df\n",
    "        self.col = {'data.developer.devShortCleanNm':'developer',\n",
    "                    'data.developer.regRegionDesc':'region',\n",
    "                    'data.objReady100PercDt':'date',\n",
    "                    'data.objElemParkingCnt':'parking',\n",
    "                    'data.objSquareLiving':'living_area',\n",
    "                    'data.objFlatCnt':'flats_count',\n",
    "                    'data.objFloorCnt':'floors_total',\n",
    "                    'data.objPriceAvg':'price'\n",
    "        }\n",
    "        \n",
    "    def modify_col(self):\n",
    "        # добавление индекса\n",
    "        df = self.df.reset_index(drop=True)\n",
    "        \n",
    "        # удаление неимпользуемых в анализе столбцов и переименование\n",
    "        df = df.filter(items=self.col.keys()).rename(columns=self.col)\n",
    "        \n",
    "        # удаление строк со значением 0 в столбце living_area\n",
    "        df = df[df['living_area']>0].reset_index(drop=True)\n",
    "        \n",
    "        # удаление строк с пропусками в данных\n",
    "        df = df.dropna().reset_index(drop=True)\n",
    "        \n",
    "        # замена типа данных в date на формат datetime\n",
    "        df['date'] = pd.to_datetime(df['date'], format = '%Y-%m-%dT%H:%M:%S')\n",
    "        \n",
    "        # замена вещественного типа данных в столбце в floors_total на целочисленный\n",
    "        df['floors_total'] = df['floors_total'].astype('int')\n",
    "        \n",
    "        return df"
   ]
  },
  {
   "cell_type": "code",
   "execution_count": 51,
   "metadata": {},
   "outputs": [],
   "source": [
    "data = DfPreprocessing(data).modify_col()"
   ]
  },
  {
   "cell_type": "code",
   "execution_count": 52,
   "metadata": {},
   "outputs": [
    {
     "name": "stdout",
     "output_type": "stream",
     "text": [
      "<class 'pandas.core.frame.DataFrame'>\n",
      "RangeIndex: 6840 entries, 0 to 6839\n",
      "Data columns (total 8 columns):\n",
      " #   Column        Non-Null Count  Dtype         \n",
      "---  ------        --------------  -----         \n",
      " 0   developer     6840 non-null   object        \n",
      " 1   region        6840 non-null   object        \n",
      " 2   date          6840 non-null   datetime64[ns]\n",
      " 3   parking       6840 non-null   int64         \n",
      " 4   living_area   6840 non-null   float64       \n",
      " 5   flats_count   6840 non-null   int64         \n",
      " 6   floors_total  6840 non-null   int32         \n",
      " 7   price         6840 non-null   float64       \n",
      "dtypes: datetime64[ns](1), float64(2), int32(1), int64(2), object(2)\n",
      "memory usage: 400.9+ KB\n"
     ]
    }
   ],
   "source": [
    "data.info()"
   ]
  },
  {
   "cell_type": "markdown",
   "metadata": {},
   "source": [
    "## Исследовательский анализ данных<a class=\"anchor\" id=\"chapter4\"></a>"
   ]
  },
  {
   "cell_type": "code",
   "execution_count": 53,
   "metadata": {},
   "outputs": [],
   "source": [
    "data_by_region = (\n",
    "    data\n",
    "    .groupby('region')\n",
    "    .agg(average_price=('price', 'mean'), average_living_area=('living_area', 'mean'), average_parking=('parking', 'mean'), \n",
    "        average_flats_count=('flats_count', 'mean'), average_floors_total=('floors_total', 'mean'), count=('price', 'count')\n",
    "        )\n",
    ").sort_values('average_price', ascending = False)"
   ]
  },
  {
   "cell_type": "code",
   "execution_count": 54,
   "metadata": {},
   "outputs": [],
   "source": [
    "data_by_region['group'], buckets = pd.qcut(data_by_region['average_price'], 10, labels = range(10,0,-1), retbins = True)"
   ]
  },
  {
   "cell_type": "code",
   "execution_count": 55,
   "metadata": {},
   "outputs": [],
   "source": [
    "data['group'] = data['region'].map(data_by_region['group'])"
   ]
  },
  {
   "cell_type": "code",
   "execution_count": 56,
   "metadata": {},
   "outputs": [],
   "source": [
    "data['year'] = data['date'].dt.year"
   ]
  },
  {
   "cell_type": "code",
   "execution_count": 59,
   "metadata": {},
   "outputs": [],
   "source": [
    "class Visualizer:\n",
    "    def __init__(self, df):\n",
    "        self.df = df\n",
    "\n",
    "    def make_boxplot(self):        \n",
    "        group_num = [str(x) for x in range(1, 11)] \n",
    "        group_num.append('none')\n",
    "\n",
    "        @interact\n",
    "        def view_image(\n",
    "            col=widgets.Dropdown(\n",
    "                description=\"Plot:\", value='price', options=['price', 'parking',  'living_area', 'flats_count', 'floors_total']\n",
    "            ),\n",
    "            filter=widgets.Dropdown(\n",
    "                description=\"Group filter:\", value='1', options=group_num\n",
    "            ),\n",
    "        ):\n",
    "\n",
    "            if filter!='none' and self.df['group'].eq(int(filter)).any():\n",
    "                dfp = self.df.loc[self.df['group'].eq(int(filter))]\n",
    "            else:\n",
    "                dfp = self.df\n",
    "            #fig = px.box(dfp, x=col, y='region')\n",
    "\n",
    "            fig = go.Figure(data=[\n",
    "                go.Box(name='average price', \n",
    "                   y=dfp[col].tolist(),\n",
    "                   x=dfp['region'].tolist(),\n",
    "                   marker_color = \"#9cbccf\",\n",
    "                   boxpoints='all',\n",
    "                   jitter=0.1, \n",
    "                   pointpos=0,\n",
    "                   marker_size=3\n",
    "                      ),\n",
    "\n",
    "                ],\n",
    "                layout={\n",
    "                'yaxis': {'title': col},\n",
    "\n",
    "                }\n",
    "            )\n",
    "\n",
    "            fig.update_layout(plot_bgcolor='rgb(255,255,255)', width=1000, height=700)\n",
    "            fig.show()\n",
    "            #go.FigureWidget(fig.to_dict()).show()\n",
    "\n",
    "            \n",
    "    def make_barplot(self):\n",
    "        @interact\n",
    "        def view_image(\n",
    "            col=widgets.Dropdown(\n",
    "                description=\"Plot:\", value='average_price', options=['average_price', 'average_parking',  \n",
    "                                                                     'average_living_area', 'average_flats_count', \n",
    "                                                                     'average_floors_total', 'count']\n",
    "            ),\n",
    "        ):\n",
    "\n",
    "            fig = go.Figure(data=[\n",
    "                go.Bar(name='average price', \n",
    "                       x=self.df.sort_values(col, ascending = False).index.to_list(), \n",
    "                       y=self.df.sort_values(col, ascending = False)[col].tolist(), \n",
    "                       marker_color = \"#9cbccf\"),\n",
    "                    ],\n",
    "                layout={\n",
    "                    'yaxis': {'title': col},\n",
    "                    }\n",
    "            )\n",
    "\n",
    "            fig.update_layout(plot_bgcolor='rgb(255,255,255)', width=1000, height=700)\n",
    "            fig.show()\n",
    "                            \n",
    "            \n",
    "    def make_heatmap(self):\n",
    "        data_by_region_year = (\n",
    "            self.df\n",
    "            .groupby(['region', 'year'])\n",
    "            .agg(sum_flats=('flats_count', 'sum'), count_flats=('flats_count', 'count'))\n",
    "        )\n",
    "        \n",
    "        plt.figure(figsize=(20, 20))\n",
    "\n",
    "        plt.title(\"Объем вводимого жилья по годам и по регионам\")\n",
    "        sns.heatmap(\n",
    "            data_by_region_year.reset_index().pivot(\"region\", \"year\", \"sum_flats\"),\n",
    "            cmap=sns.diverging_palette(220, 10, as_cmap=True),\n",
    "            linewidths=.5,\n",
    "        )\n",
    "        plt.xlabel(\"Год\")\n",
    "        plt.ylabel(\"Регион\")"
   ]
  },
  {
   "cell_type": "code",
   "execution_count": 60,
   "metadata": {},
   "outputs": [
    {
     "data": {
      "application/vnd.jupyter.widget-view+json": {
       "model_id": "d1b00594f8cc48c39c51a08b53634c1d",
       "version_major": 2,
       "version_minor": 0
      },
      "text/plain": [
       "interactive(children=(Dropdown(description='Plot:', options=('average_price', 'average_parking', 'average_livi…"
      ]
     },
     "metadata": {},
     "output_type": "display_data"
    }
   ],
   "source": [
    "Visualizer(data_by_region).make_barplot()"
   ]
  },
  {
   "cell_type": "code",
   "execution_count": 61,
   "metadata": {},
   "outputs": [
    {
     "data": {
      "application/vnd.jupyter.widget-view+json": {
       "model_id": "09016a3849a34c82b109c32ff8d3e18b",
       "version_major": 2,
       "version_minor": 0
      },
      "text/plain": [
       "interactive(children=(Dropdown(description='Plot:', options=('price', 'parking', 'living_area', 'flats_count',…"
      ]
     },
     "metadata": {},
     "output_type": "display_data"
    }
   ],
   "source": [
    "Visualizer(data).make_boxplot()"
   ]
  },
  {
   "cell_type": "code",
   "execution_count": 62,
   "metadata": {},
   "outputs": [
    {
     "data": {
      "image/png": "[encoded data removed]",
      "text/plain": [
       "<Figure size 1440x1440 with 2 Axes>"
      ]
     },
     "metadata": {
      "needs_background": "light"
     },
     "output_type": "display_data"
    }
   ],
   "source": [
    "Visualizer(data).make_heatmap()"
   ]
  },
  {
   "cell_type": "code",
   "execution_count": null,
   "metadata": {},
   "outputs": [],
   "source": []
  }
 ],
 "metadata": {
  "kernelspec": {
   "display_name": "Python 3 (ipykernel)",
   "language": "python",
   "name": "python3"
  },
  "language_info": {
   "codemirror_mode": {
    "name": "ipython",
    "version": 3
   },
   "file_extension": ".py",
   "mimetype": "text/x-python",
   "name": "python",
   "nbconvert_exporter": "python",
   "pygments_lexer": "ipython3",
   "version": "3.9.12"
  },
  "toc": {
   "base_numbering": 1,
   "nav_menu": {},
   "number_sections": true,
   "sideBar": true,
   "skip_h1_title": false,
   "title_cell": "Table of Contents",
   "title_sidebar": "Contents",
   "toc_cell": true,
   "toc_position": {},
   "toc_section_display": true,
   "toc_window_display": false
  }
 },
 "nbformat": 4,
 "nbformat_minor": 1
}
