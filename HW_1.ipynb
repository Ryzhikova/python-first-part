{
 "cells": [
  {
   "cell_type": "code",
   "execution_count": 1,
   "id": "76d7f11b",
   "metadata": {},
   "outputs": [],
   "source": [
    "#pip install torch"
   ]
  },
  {
   "cell_type": "code",
   "execution_count": 24,
   "id": "058610cc",
   "metadata": {},
   "outputs": [],
   "source": [
    "import torch\n",
    "import torch.nn as nn\n",
    "\n",
    "import numpy as np"
   ]
  },
  {
   "cell_type": "markdown",
   "id": "9ce096f2",
   "metadata": {},
   "source": [
    "## Задача №1"
   ]
  },
  {
   "cell_type": "code",
   "execution_count": 3,
   "id": "ce4b3544",
   "metadata": {},
   "outputs": [],
   "source": [
    "x = torch.tensor([1, 2, 3, 4, 5]).float()\n",
    "y_grad = torch.tensor([2.5]).float()"
   ]
  },
  {
   "cell_type": "code",
   "execution_count": 4,
   "id": "e4ee9e4b",
   "metadata": {},
   "outputs": [],
   "source": [
    "class MyLayer(nn.Module):\n",
    "    def __init__(self, x):\n",
    "        super(MyLayer, self).__init__()\n",
    "        self.x = x\n",
    "        self.linear1 = nn.Linear(5, 5, bias=True)\n",
    "        self.linear2 = nn.Linear(5, 1, bias=True)\n",
    "\n",
    "    def forward(self):\n",
    "        z = self.linear1(self.x)\n",
    "        g = nn.Tanh()\n",
    "        y_pred = self.linear2(g(z))\n",
    "        return y_pred\n",
    "\n",
    "    def backward(self, grad_y_pred):\n",
    "        grad_w2 = self.x.view(5, 1) * y_grad\n",
    "        g_der = nn.Tanh()\n",
    "        grad_g = 1 - g_der(grad_w2).pow(2)\n",
    "        grad_w1 =  self.x.view(5, 1) * grad_g.t()\n",
    "        return grad_w1, grad_w2"
   ]
  },
  {
   "cell_type": "code",
   "execution_count": 5,
   "id": "fd8ccd12",
   "metadata": {},
   "outputs": [
    {
     "name": "stdout",
     "output_type": "stream",
     "text": [
      "tensor([-0.2840], grad_fn=<AddBackward0>)\n"
     ]
    }
   ],
   "source": [
    "layer = MyLayer(x)\n",
    "y = layer.forward()\n",
    "print(y)"
   ]
  },
  {
   "cell_type": "code",
   "execution_count": 6,
   "id": "adb39b83",
   "metadata": {},
   "outputs": [
    {
     "name": "stdout",
     "output_type": "stream",
     "text": [
      "tensor([[ 2.5000],\n",
      "        [ 5.0000],\n",
      "        [ 7.5000],\n",
      "        [10.0000],\n",
      "        [12.5000]])\n",
      "tensor([[2.6592e-02, 1.8156e-04, 1.1921e-06, 0.0000e+00, 0.0000e+00],\n",
      "        [5.3185e-02, 3.6311e-04, 2.3842e-06, 0.0000e+00, 0.0000e+00],\n",
      "        [7.9777e-02, 5.4467e-04, 3.5763e-06, 0.0000e+00, 0.0000e+00],\n",
      "        [1.0637e-01, 7.2622e-04, 4.7684e-06, 0.0000e+00, 0.0000e+00],\n",
      "        [1.3296e-01, 9.0778e-04, 5.9605e-06, 0.0000e+00, 0.0000e+00]])\n"
     ]
    }
   ],
   "source": [
    "grad_w1, grad_w2 = layer.backward(y_grad)\n",
    "print(grad_w2)\n",
    "print(grad_w1)"
   ]
  },
  {
   "cell_type": "markdown",
   "id": "a50232c9",
   "metadata": {},
   "source": [
    "## Задача №2"
   ]
  },
  {
   "cell_type": "code",
   "execution_count": 7,
   "id": "f9a8b147",
   "metadata": {},
   "outputs": [],
   "source": [
    "class SGDMomentum:\n",
    "    def __init__(self, model_weights, momentum: float=0.99, lr: float = 0.001):\n",
    "        self.momentum = momentum\n",
    "        self.lr = lr\n",
    "        self.velocity = torch.zeros_like(model_weights)\n",
    "        self.weights = model_weights\n",
    "\n",
    "    def step(self, grad):\n",
    "        self.velocity = self.momentum * self.velocity - self.lr * grad\n",
    "        self.weights = self.weights + self.velocity"
   ]
  },
  {
   "cell_type": "code",
   "execution_count": 53,
   "id": "eac82078",
   "metadata": {},
   "outputs": [],
   "source": [
    "class RMSprop:\n",
    "    def __init__(self, model_weights, rho: float=0.99, lr: float = 0.01):\n",
    "        self.rho = rho\n",
    "        self.lr = lr\n",
    "        self.accumulated = torch.zeros_like(model_weights)\n",
    "        self.weights = model_weights\n",
    "\n",
    "    def step(self, grad):\n",
    "        self.accumulated = self.rho * self.accumulated + (1 - self.rho) * (grad ** 2)\n",
    "        self.weights = self.weights - self.lr / np.sqrt(self.accumulated + 10**(-10)) * grad"
   ]
  },
  {
   "cell_type": "markdown",
   "id": "4ae3d6ea",
   "metadata": {},
   "source": [
    "## Задача №3"
   ]
  },
  {
   "cell_type": "code",
   "execution_count": 110,
   "id": "1858c8c7",
   "metadata": {},
   "outputs": [],
   "source": [
    "def func(x):\n",
    "    #return (2*x-7)**2-4\n",
    "    #return x**2 - 2*x + 1\n",
    "    return x**2 - 10*x + 9\n",
    "    \n",
    "def grad(x):\n",
    "    #return 4*(2*x-7)\n",
    "    #return 2*x - 2\n",
    "    return 2*x - 10\n",
    "\n",
    "def min_value(init_x):\n",
    "    x = torch.tensor(init_x)\n",
    "    g = grad(x)\n",
    "    optim = RMSprop(x, 0.9, 0.01)\n",
    "    for i in range(1000):\n",
    "        optim.step(g)\n",
    "        g = grad(optim.weights)\n",
    "    print('min = ', optim.weights)\n",
    "    return optim.weights\n",
    "\n",
    "def solver(init_x):\n",
    "    \n",
    "    min_val = min_value(init_x)\n",
    "    \n",
    "    error = 10**(-8)\n",
    "    f = func(init_x)\n",
    "    x = torch.tensor(init_x)\n",
    "    g = grad(x)\n",
    "    optim = RMSprop(x, 0.9, 0.001)\n",
    "    while f > error:\n",
    "        optim.step(g)\n",
    "        g = grad(optim.weights)\n",
    "        f = func(optim.weights)\n",
    "    \n",
    "    root_1 = optim.weights\n",
    "    root_2 = 2 * min_val - root_1\n",
    "    \n",
    "    print('root_1 = ', optim.weights) \n",
    "    print('root_2 = ', root_2) "
   ]
  },
  {
   "cell_type": "code",
   "execution_count": 111,
   "id": "fea90654",
   "metadata": {},
   "outputs": [
    {
     "name": "stdout",
     "output_type": "stream",
     "text": [
      "min =  tensor(5.)\n"
     ]
    },
    {
     "data": {
      "text/plain": [
       "tensor(5.)"
      ]
     },
     "execution_count": 111,
     "metadata": {},
     "output_type": "execute_result"
    }
   ],
   "source": [
    "min_value(3)"
   ]
  },
  {
   "cell_type": "code",
   "execution_count": 112,
   "id": "236477e6",
   "metadata": {},
   "outputs": [
    {
     "name": "stdout",
     "output_type": "stream",
     "text": [
      "min =  tensor(5.)\n",
      "root_1 =  tensor(8.9999)\n",
      "root_2 =  tensor(1.0001)\n"
     ]
    }
   ],
   "source": [
    "solver(10)"
   ]
  },
  {
   "cell_type": "code",
   "execution_count": null,
   "id": "7f7959b1",
   "metadata": {},
   "outputs": [],
   "source": []
  }
 ],
 "metadata": {
  "kernelspec": {
   "display_name": "Python 3 (ipykernel)",
   "language": "python",
   "name": "python3"
  },
  "language_info": {
   "codemirror_mode": {
    "name": "ipython",
    "version": 3
   },
   "file_extension": ".py",
   "mimetype": "text/x-python",
   "name": "python",
   "nbconvert_exporter": "python",
   "pygments_lexer": "ipython3",
   "version": "3.9.7"
  }
 },
 "nbformat": 4,
 "nbformat_minor": 5
}
